{
 "cells": [
  {
   "cell_type": "code",
   "execution_count": 1,
   "id": "4f786305-e8aa-47c5-a146-a16114ef724b",
   "metadata": {},
   "outputs": [],
   "source": [
    "#Question to answer: What is the demographic factors associated with higher rates of Gender-Based Violence?\n",
    "#Using linear regression model which is best for predicting the rate of gender-based violence incidents.\n",
    "\n",
    "import pandas as pd\n",
    "from sklearn.model_selection import train_test_split\n",
    "from sklearn.preprocessing import StandardScaler, LabelEncoder\n",
    "from sklearn.cluster import KMeans\n",
    "from sklearn.linear_model import LinearRegression\n",
    "from sklearn.tree import DecisionTreeClassifier\n",
    "from sklearn.metrics import accuracy_score, precision_score, recall_score, f1_score, confusion_matrix\n",
    "from sklearn.metrics import mean_squared_error, r2_score\n",
    "\n",
    "#Source for learning code to this week: https://www.geeksforgeeks.org/python-linear-regression-using-sklearn/"
   ]
  },
  {
   "cell_type": "code",
   "execution_count": 2,
   "id": "25056d14-7285-4e08-9c6f-5874ed3e55e7",
   "metadata": {},
   "outputs": [
    {
     "name": "stdout",
     "output_type": "stream",
     "text": [
      "   Unnamed: 0_x_x  ps_code  population_x_x urban_x_x  dist_urban_x_x  \\\n",
      "0               0   1001.0          129345     Rural             1.0   \n",
      "1               0   1001.0          129345     Rural             1.0   \n",
      "2               0   1001.0          129345     Rural             1.0   \n",
      "3               0   1001.0          129345     Rural             1.0   \n",
      "4               0   1001.0          129345     Rural             1.0   \n",
      "\n",
      "   strat_pca_x_x treatment_x_x       group_x_x  dist_id_x_x  \\\n",
      "0      -0.234041     Treatment  women officers       1000.0   \n",
      "1      -0.234041     Treatment  women officers       1000.0   \n",
      "2      -0.234041     Treatment  women officers       1000.0   \n",
      "3      -0.234041     Treatment  women officers       1000.0   \n",
      "4      -0.234041     Treatment  women officers       1000.0   \n",
      "\n",
      "   implement_quality_x_x  ...  dist_urban_y_y  strat_pca_y_y  treatment_y_y  \\\n",
      "0                    9.0  ...             1.0      -0.234041      Treatment   \n",
      "1                    9.0  ...             1.0      -0.234041      Treatment   \n",
      "2                    9.0  ...             1.0      -0.234041      Treatment   \n",
      "3                    9.0  ...             1.0      -0.234041      Treatment   \n",
      "4                    9.0  ...             1.0      -0.234041      Treatment   \n",
      "\n",
      "        group_y_y  dist_id_y_y  implement_quality_y_y  training_score_y_y  \\\n",
      "0  women officers       1000.0                    9.0            2.916667   \n",
      "1  women officers       1000.0                    9.0            2.916667   \n",
      "2  women officers       1000.0                    9.0            2.916667   \n",
      "3  women officers       1000.0                    9.0            2.916667   \n",
      "4  women officers       1000.0                    9.0            2.916667   \n",
      "\n",
      "  comm_outreach_strength_y_y  regular_whd_y_y  women_whd_y_y  \n",
      "0                        2.2              0.0            1.0  \n",
      "1                        2.2              0.0            1.0  \n",
      "2                        2.2              0.0            1.0  \n",
      "3                        2.2              0.0            1.0  \n",
      "4                        2.2              0.0            1.0  \n",
      "\n",
      "[5 rows x 100 columns]\n"
     ]
    }
   ],
   "source": [
    "# Load Incident Data based on target objective\n",
    "citizen_caw = pd.read_csv('citizen_caw rates.csv')\n",
    "admin_long = pd.read_csv('admin_long data.csv')\n",
    "admin_wide = pd.read_csv('admin_wide data.csv')\n",
    "\n",
    "# Load Demographic Data based on target objective\n",
    "survey_endline = pd.read_csv('user survey_endline data.csv')\n",
    "citizen_full = pd.read_csv('citizen_full data.csv ')\n",
    "#citizen_caw = pd.read_csv('citizen_caw rates.csv')\n",
    "\n",
    "# Merge data on common field (ps_code or dist_id)\n",
    "merge_1 = pd.merge(citizen_caw, survey_endline, on='ps_code', how='inner')\n",
    "merge_2 = pd.merge(citizen_caw, admin_wide, on='ps_code', how='outer')\n",
    "merge_3 = pd.merge(merge_2, admin_long, on='ps_code', how='outer')\n",
    "final_data = pd.merge(merge_3, merge_1, on='ps_code', how='inner')\n",
    "\n",
    "# Display the first few rows of the final merged dataset\n",
    "print(final_data.head())"
   ]
  },
  {
   "cell_type": "code",
   "execution_count": 3,
   "id": "33c4c0d7-c794-44b6-b198-3348e9315930",
   "metadata": {},
   "outputs": [],
   "source": [
    "# Eliminate missing data\n",
    "final_data.ffill(inplace=True)"
   ]
  },
  {
   "cell_type": "code",
   "execution_count": 4,
   "id": "2ee59c15-c2c2-4b09-87de-abafe3c722d6",
   "metadata": {},
   "outputs": [],
   "source": [
    "# Normalize merged data\n",
    "scaler = StandardScaler()  \n",
    "numerical_columns = final_data.select_dtypes(include=['float64', 'int64']).columns\n",
    "final_data[numerical_columns] = scaler.fit_transform(final_data[numerical_columns])"
   ]
  },
  {
   "cell_type": "code",
   "execution_count": 5,
   "id": "9640c59e-36c6-4a08-b74f-67b95314de33",
   "metadata": {},
   "outputs": [],
   "source": [
    "# Encode categorical variables\n",
    "encoder = LabelEncoder()\n",
    "categorical_columns = final_data.select_dtypes(include=['object']).columns\n",
    "for col in categorical_columns:\n",
    "    final_data[col] = encoder.fit_transform(final_data[col])"
   ]
  },
  {
   "cell_type": "code",
   "execution_count": 6,
   "id": "af9acafe-afd4-4692-9092-7247e4794fda",
   "metadata": {},
   "outputs": [],
   "source": [
    "# Define incident rate\n",
    "#e_caw_rate: This represents the endline rate of Crimes Against Women (CAW) incidents\n",
    "y = final_data['e_caw_rate'] \n",
    "\n",
    "# Demographics columns except the target\n",
    "X = final_data.drop(columns=['e_caw_rate'])  \n",
    "\n",
    "# Split data into training and testing sets\n",
    "X_train, X_test, y_train, y_test = train_test_split(X, y, test_size=0.2, random_state=42)"
   ]
  },
  {
   "cell_type": "code",
   "execution_count": 7,
   "id": "099838f5-ff57-4e98-bd5c-2b4f4abefe06",
   "metadata": {},
   "outputs": [
    {
     "name": "stdout",
     "output_type": "stream",
     "text": [
      "Original Columns: Index(['Unnamed: 0_x_x', 'ps_code', 'population_x_x', 'urban_x_x',\n",
      "       'dist_urban_x_x', 'strat_pca_x_x', 'treatment_x_x', 'group_x_x',\n",
      "       'dist_id_x_x', 'implement_quality_x_x', 'training_score_x_x',\n",
      "       'comm_outreach_strength_x_x', 'regular_whd_x_x', 'women_whd_x_x',\n",
      "       'b_caw_rate_x', 'e_caw_rate_x', 'Unnamed: 0_y_x', 'urban_y_x',\n",
      "       'dist_urban_y_x', 'strat_pca_y_x', 'treatment_y_x', 'dist_id_y_x',\n",
      "       'regular_whd_y_x', 'women_whd_y_x', 'e_caw_rate_y', 'month_x',\n",
      "       'b_fir_overall_count', 'b_fir_caw_count', 'b_fir_bywomen_count',\n",
      "       'b_arrest_count', 'b_dir_count', 'b_ncr_count', 'b_dial100_count',\n",
      "       'e_fir_overall_count', 'e_fir_caw_count', 'e_fir_bywomen_count',\n",
      "       'e_arrest_count', 'e_dir_count', 'e_ncr_count', 'e_dial100_count',\n",
      "       'implement_quality_y_x', 'training_score_y_x',\n",
      "       'comm_outreach_strength_y_x', 'Unnamed: 0', 'month_y',\n",
      "       'fir_overall_count', 'fir_caw_count', 'fir_bywomen_count',\n",
      "       'arrest_count', 'dir_count', 'ncr_count', 'dial100_count',\n",
      "       'population_y_x', 'urban', 'dist_urban', 'strat_pca', 'treatment',\n",
      "       'group_y_x', 'dist_id', 'implement_quality', 'training_score',\n",
      "       'comm_outreach_strength', 'regular_whd', 'women_whd', 'Unnamed: 0_x_y',\n",
      "       'population_x_y', 'urban_x_y', 'dist_urban_x_y', 'strat_pca_x_y',\n",
      "       'treatment_x_y', 'group_x_y', 'dist_id_x_y', 'implement_quality_x_y',\n",
      "       'training_score_x_y', 'comm_outreach_strength_x_y', 'regular_whd_x_y',\n",
      "       'women_whd_x_y', 'b_caw_rate_y', 'e_caw_rate', 'Unnamed: 0_y_y', 'uid',\n",
      "       'consented', 'gender', 'visitsats', 'comfort', 'respect', 'resolution',\n",
      "       'fclitysats', 'population_y_y', 'urban_y_y', 'dist_urban_y_y',\n",
      "       'strat_pca_y_y', 'treatment_y_y', 'group_y_y', 'dist_id_y_y',\n",
      "       'implement_quality_y_y', 'training_score_y_y',\n",
      "       'comm_outreach_strength_y_y', 'regular_whd_y_y', 'women_whd_y_y'],\n",
      "      dtype='object')\n",
      "Cleaned Columns: Index(['ps_code', 'b_fir_overall_count', 'b_fir_caw_count',\n",
      "       'b_fir_bywomen_count', 'b_arrest_count', 'b_dir_count', 'b_ncr_count',\n",
      "       'b_dial100_count', 'e_fir_overall_count', 'e_fir_caw_count',\n",
      "       'e_fir_bywomen_count', 'e_arrest_count', 'e_dir_count', 'e_ncr_count',\n",
      "       'e_dial100_count', 'Unnamed: 0', 'fir_overall_count', 'fir_caw_count',\n",
      "       'fir_bywomen_count', 'arrest_count', 'dir_count', 'ncr_count',\n",
      "       'dial100_count', 'urban', 'dist_urban', 'strat_pca', 'treatment',\n",
      "       'dist_id', 'implement_quality', 'training_score',\n",
      "       'comm_outreach_strength', 'regular_whd', 'women_whd', 'e_caw_rate',\n",
      "       'uid', 'consented', 'gender', 'visitsats', 'comfort', 'respect',\n",
      "       'resolution', 'fclitysats'],\n",
      "      dtype='object')\n"
     ]
    }
   ],
   "source": [
    "# Remove duplication in the data\n",
    "print(\"Original Columns:\", final_data.columns)\n",
    "\n",
    "# Remove duplicates in the data\n",
    "columns_to_drop = [col for col in final_data.columns if '_x' in col or '_y' in col]\n",
    "\n",
    "# Drop identified duplicate columns\n",
    "cleaned_data = final_data.drop(columns=columns_to_drop)\n",
    "\n",
    "# Check cleaned columns\n",
    "print(\"Cleaned Columns:\", cleaned_data.columns)"
   ]
  },
  {
   "cell_type": "code",
   "execution_count": 8,
   "id": "197db2d6-cd41-41a7-b9e4-1919c0438f21",
   "metadata": {},
   "outputs": [
    {
     "name": "stdout",
     "output_type": "stream",
     "text": [
      "Mean Squared Error: 0.8475144479648719\n",
      "R-squared (R²) Score: 0.14492631633813435\n"
     ]
    }
   ],
   "source": [
    "# Define the target and features\n",
    "y = cleaned_data['e_caw_rate']  # Target variable: incident rate\n",
    "X = cleaned_data.drop(columns=['e_caw_rate'])  # Features: All columns except the target\n",
    "\n",
    "# Split data into training and testing sets\n",
    "X_train, X_test, y_train, y_test = train_test_split(X, y, test_size=0.2, random_state=42)\n",
    "\n",
    "# Regression with Linear Regression\n",
    "regressor = LinearRegression()\n",
    "regressor.fit(X_train, y_train)\n",
    "y_pred = regressor.predict(X_test)\n",
    "\n",
    "# Evaluate the regression model\n",
    "mse = mean_squared_error(y_test, y_pred)\n",
    "r2 = r2_score(y_test, y_pred)\n",
    "\n",
    "print(f\"Mean Squared Error: {mse}\")\n",
    "print(f\"R-squared (R²) Score: {r2}\")"
   ]
  },
  {
   "cell_type": "code",
   "execution_count": 9,
   "id": "bbd252ab-cb42-4efb-99f1-1f73edf792c4",
   "metadata": {},
   "outputs": [
    {
     "name": "stdout",
     "output_type": "stream",
     "text": [
      "                   Feature   Coefficient\n",
      "27                 dist_id  3.811612e+00\n",
      "28       implement_quality  2.869338e-01\n",
      "23                   urban  2.425455e-01\n",
      "14         e_dial100_count  1.839876e-01\n",
      "13             e_ncr_count  1.336669e-01\n",
      "11          e_arrest_count  8.891905e-02\n",
      "2          b_fir_caw_count  8.358816e-02\n",
      "22           dial100_count  6.268610e-02\n",
      "19            arrest_count  5.712257e-02\n",
      "21               ncr_count  4.428362e-02\n",
      "17           fir_caw_count  4.383356e-02\n",
      "40              fclitysats  4.310445e-02\n",
      "8      e_fir_overall_count  4.165154e-02\n",
      "36               visitsats  2.791694e-02\n",
      "16       fir_overall_count  1.508604e-02\n",
      "39              resolution  1.226072e-02\n",
      "9          e_fir_caw_count  1.154691e-02\n",
      "6              b_ncr_count  5.042729e-03\n",
      "7          b_dial100_count  3.231898e-03\n",
      "38                 respect  2.843185e-03\n",
      "32               women_whd  2.219533e-03\n",
      "34               consented -2.739475e-14\n",
      "33                     uid -4.771770e-05\n",
      "35                  gender -4.203024e-03\n",
      "37                 comfort -7.546906e-03\n",
      "4           b_arrest_count -9.849495e-03\n",
      "20               dir_count -2.371415e-02\n",
      "12             e_dir_count -2.878396e-02\n",
      "5              b_dir_count -4.287625e-02\n",
      "15              Unnamed: 0 -5.863786e-02\n",
      "26               treatment -6.440090e-02\n",
      "10     e_fir_bywomen_count -7.662570e-02\n",
      "3      b_fir_bywomen_count -8.736807e-02\n",
      "18       fir_bywomen_count -9.850522e-02\n",
      "30  comm_outreach_strength -1.201451e-01\n",
      "25               strat_pca -1.249919e-01\n",
      "31             regular_whd -1.394014e-01\n",
      "1      b_fir_overall_count -1.466377e-01\n",
      "29          training_score -1.722517e-01\n",
      "0                  ps_code -1.601552e+00\n",
      "24              dist_urban -2.104300e+00\n"
     ]
    }
   ],
   "source": [
    "# Access model coefficients\n",
    "coefficients = pd.DataFrame({\n",
    "    'Feature': X.columns,\n",
    "    'Coefficient': regressor.coef_\n",
    "})\n",
    "\n",
    "# Display coefficients sorted by importance\n",
    "coefficients = coefficients.sort_values(by='Coefficient', ascending=False)\n",
    "print(coefficients)"
   ]
  },
  {
   "cell_type": "code",
   "execution_count": null,
   "id": "b022c193-4914-4745-9e22-c3ccbd60988d",
   "metadata": {},
   "outputs": [],
   "source": []
  }
 ],
 "metadata": {
  "kernelspec": {
   "display_name": "Python 3 (ipykernel)",
   "language": "python",
   "name": "python3"
  },
  "language_info": {
   "codemirror_mode": {
    "name": "ipython",
    "version": 3
   },
   "file_extension": ".py",
   "mimetype": "text/x-python",
   "name": "python",
   "nbconvert_exporter": "python",
   "pygments_lexer": "ipython3",
   "version": "3.11.7"
  }
 },
 "nbformat": 4,
 "nbformat_minor": 5
}
